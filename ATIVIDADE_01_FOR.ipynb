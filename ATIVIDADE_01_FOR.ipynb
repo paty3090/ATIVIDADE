{
  "cells": [
    {
      "cell_type": "markdown",
      "metadata": {
        "id": "view-in-github",
        "colab_type": "text"
      },
      "source": [
        "<a href=\"https://colab.research.google.com/github/paty3090/ATIVIDADE/blob/main/ATIVIDADE_01_FOR.ipynb\" target=\"_parent\"><img src=\"https://colab.research.google.com/assets/colab-badge.svg\" alt=\"Open In Colab\"/></a>"
      ]
    },
    {
      "cell_type": "markdown",
      "metadata": {
        "id": "4_kCnsPUqS6o"
      },
      "source": [
        "\n",
        "\n",
        "\n",
        "\n",
        "**ATIVIDADE 01 FOR**\n",
        "\n",
        "Faça esses três programas abaixo, utilizando a função FOR.\n",
        "\n",
        "1) Faça um programa que imprima na tela apenas os números ímpares entre 1 e 50."
      ]
    },
    {
      "cell_type": "code",
      "source": [
        "for num in range(1, 51):\n",
        "    if num % 2 != 0:\n",
        "        print(num)\n"
      ],
      "metadata": {
        "id": "YUQCGryg4bbj",
        "outputId": "3b436358-45b2-4b36-a517-ee4840804bd0",
        "colab": {
          "base_uri": "https://localhost:8080/"
        }
      },
      "execution_count": null,
      "outputs": [
        {
          "output_type": "stream",
          "name": "stdout",
          "text": [
            "1\n",
            "3\n",
            "5\n",
            "7\n",
            "9\n",
            "11\n",
            "13\n",
            "15\n",
            "17\n",
            "19\n",
            "21\n",
            "23\n",
            "25\n",
            "27\n",
            "29\n",
            "31\n",
            "33\n",
            "35\n",
            "37\n",
            "39\n",
            "41\n",
            "43\n",
            "45\n",
            "47\n",
            "49\n"
          ]
        }
      ]
    },
    {
      "cell_type": "markdown",
      "source": [
        "2) Faça um programa que exiba em tela os números abaixo:\n",
        "1\n",
        "4\n",
        "7\n",
        "10\n",
        "13\n",
        "16\n",
        "19\n",
        "22\n",
        "25\n",
        "28\n",
        "31\n",
        "34\n",
        "37\n",
        "40"
      ],
      "metadata": {
        "id": "tCPc9ygH56Am"
      }
    },
    {
      "cell_type": "code",
      "source": [
        "\n",
        "for num in range(1, 43, 3):  # Começa de 1, vai até 40, e pula de 3 em 3\n",
        "    print(num)\n",
        "\n"
      ],
      "metadata": {
        "id": "0dlon6uH5tVZ",
        "outputId": "05c898de-4c23-4682-d00a-ecf64e619612",
        "colab": {
          "base_uri": "https://localhost:8080/"
        }
      },
      "execution_count": null,
      "outputs": [
        {
          "output_type": "stream",
          "name": "stdout",
          "text": [
            "1\n",
            "4\n",
            "7\n",
            "10\n",
            "13\n",
            "16\n",
            "19\n",
            "22\n",
            "25\n",
            "28\n",
            "31\n",
            "34\n",
            "37\n",
            "40\n"
          ]
        }
      ]
    },
    {
      "cell_type": "markdown",
      "source": [
        "3) Faça um programa que exiba os números pares de 0 a 30 com exceção dos números 10, 20 e 30."
      ],
      "metadata": {
        "id": "WhS_26Ik42yG"
      }
    },
    {
      "cell_type": "code",
      "source": [
        "for num in range(0,30,2):\n",
        "  if num != 10 and num != 20:\n",
        "    print(num)"
      ],
      "metadata": {
        "id": "mmtUj2l-y2dX",
        "outputId": "ef35cc16-39f4-42e5-9106-84310705f52b",
        "colab": {
          "base_uri": "https://localhost:8080/"
        }
      },
      "execution_count": null,
      "outputs": [
        {
          "output_type": "stream",
          "name": "stdout",
          "text": [
            "0\n",
            "2\n",
            "4\n",
            "6\n",
            "8\n",
            "12\n",
            "14\n",
            "16\n",
            "18\n",
            "22\n",
            "24\n",
            "26\n",
            "28\n"
          ]
        }
      ]
    }
  ],
  "metadata": {
    "colab": {
      "toc_visible": true,
      "provenance": [],
      "include_colab_link": true
    },
    "kernelspec": {
      "display_name": "Python 3",
      "name": "python3"
    }
  },
  "nbformat": 4,
  "nbformat_minor": 0
}